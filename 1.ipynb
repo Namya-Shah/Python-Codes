{
 "cells": [
  {
   "cell_type": "code",
   "execution_count": 6,
   "metadata": {},
   "outputs": [],
   "source": [
    "colors = [\"red\", \"green\", \"blue\", \"yellow\", \"white\", \"black\", \"pink\", \"gray\"]"
   ]
  },
  {
   "cell_type": "code",
   "execution_count": 7,
   "metadata": {},
   "outputs": [
    {
     "data": {
      "text/plain": [
       "False"
      ]
     },
     "execution_count": 7,
     "metadata": {},
     "output_type": "execute_result"
    }
   ],
   "source": [
    "\"9\" in colors"
   ]
  },
  {
   "cell_type": "code",
   "execution_count": 8,
   "metadata": {},
   "outputs": [
    {
     "name": "stdout",
     "output_type": "stream",
     "text": [
      "red\n",
      "green\n",
      "blue\n",
      "yellow\n",
      "white\n",
      "black\n",
      "pink\n",
      "gray\n",
      "For loop ended\n"
     ]
    }
   ],
   "source": [
    "for color in colors:\n",
    "    print(color)\n",
    "else:\n",
    "    print(\"For loop ended\")"
   ]
  },
  {
   "cell_type": "code",
   "execution_count": 12,
   "metadata": {},
   "outputs": [
    {
     "data": {
      "text/plain": [
       "[1,\n",
       " 6,\n",
       " 11,\n",
       " 16,\n",
       " 21,\n",
       " 26,\n",
       " 31,\n",
       " 36,\n",
       " 41,\n",
       " 46,\n",
       " 51,\n",
       " 56,\n",
       " 61,\n",
       " 66,\n",
       " 71,\n",
       " 76,\n",
       " 81,\n",
       " 86,\n",
       " 91,\n",
       " 96,\n",
       " 101,\n",
       " 106,\n",
       " 111,\n",
       " 116,\n",
       " 121,\n",
       " 126,\n",
       " 131,\n",
       " 136,\n",
       " 141,\n",
       " 146,\n",
       " 151,\n",
       " 156,\n",
       " 161,\n",
       " 166,\n",
       " 171,\n",
       " 176,\n",
       " 181,\n",
       " 186,\n",
       " 191,\n",
       " 196]"
      ]
     },
     "execution_count": 12,
     "metadata": {},
     "output_type": "execute_result"
    }
   ],
   "source": [
    "list(range(1,200,5))"
   ]
  },
  {
   "cell_type": "code",
   "execution_count": 19,
   "metadata": {},
   "outputs": [
    {
     "name": "stdout",
     "output_type": "stream",
     "text": [
      "9\n",
      "8\n",
      "7\n",
      "5\n",
      "4\n",
      "3\n",
      "2\n",
      "1\n",
      "loop ended.\n"
     ]
    }
   ],
   "source": [
    "x = 10\n",
    "\n",
    "while x>1:\n",
    "    x = x - 1\n",
    "    if x == 6:\n",
    "        continue\n",
    "    print(x)\n",
    "else:\n",
    "    print(\"loop ended.\")"
   ]
  },
  {
   "cell_type": "code",
   "execution_count": 20,
   "metadata": {},
   "outputs": [
    {
     "name": "stdout",
     "output_type": "stream",
     "text": [
      "2\n"
     ]
    }
   ],
   "source": [
    "print(7%5)"
   ]
  },
  {
   "cell_type": "code",
   "execution_count": 21,
   "metadata": {},
   "outputs": [
    {
     "data": {
      "text/plain": [
       "3.15"
      ]
     },
     "execution_count": 21,
     "metadata": {},
     "output_type": "execute_result"
    }
   ],
   "source": [
    "round(3.1457,2)"
   ]
  },
  {
   "cell_type": "code",
   "execution_count": 22,
   "metadata": {},
   "outputs": [
    {
     "name": "stdout",
     "output_type": "stream",
     "text": [
      "['big', 'small', 'tall'] ['remote', 'tv', 'smart']\n",
      "['big', 'small', 'tall'] ['remote', 'tv', 'smart']\n",
      "['big', 'small', 'tall'] ['remote', 'tv', 'smart']\n",
      "['big', 'small', 'tall'] ['remote', 'tv', 'smart']\n",
      "['big', 'small', 'tall'] ['remote', 'tv', 'smart']\n",
      "['big', 'small', 'tall'] ['remote', 'tv', 'smart']\n",
      "['big', 'small', 'tall'] ['remote', 'tv', 'smart']\n",
      "['big', 'small', 'tall'] ['remote', 'tv', 'smart']\n",
      "['big', 'small', 'tall'] ['remote', 'tv', 'smart']\n"
     ]
    }
   ],
   "source": [
    "x = ['big', 'small', 'tall']\n",
    "y = ['remote', 'tv', 'smart']\n",
    "for i in x:\n",
    "    for j in y:\n",
    "        print(x,y)"
   ]
  },
  {
   "cell_type": "code",
   "execution_count": 23,
   "metadata": {},
   "outputs": [
    {
     "name": "stdout",
     "output_type": "stream",
     "text": [
      "big gold\n",
      "big gold\n",
      "big gold\n",
      "big gold\n",
      "big gold\n",
      "big gold\n",
      "big gold\n",
      "big gold\n",
      "big gold\n",
      "big gold\n",
      "big gold\n",
      "big gold\n",
      "big gold\n",
      "big gold\n",
      "big gold\n",
      "big gold\n",
      "big gold\n",
      "big gold\n",
      "big gold\n",
      "big gold\n",
      "big gold\n",
      "big gold\n",
      "big gold\n",
      "big gold\n",
      "big gold\n",
      "big gold\n",
      "big gold\n",
      "big gold\n",
      "big gold\n",
      "big gold\n",
      "big gold\n",
      "big gold\n",
      "big gold\n",
      "big gold\n",
      "big gold\n",
      "big gold\n"
     ]
    }
   ],
   "source": [
    "x = ['big', 'small', 'tall', 'bold', 'light', 'heavy']\n",
    "y = ['remote', 'tv', 'smart', 'iron', 'silver', 'gold']\n",
    "\n",
    "a = 0\n",
    "b = 0\n",
    "\n",
    "for i in x:\n",
    "    for j in y:\n",
    "        print(x[0],y[5])\n",
    "        b += 1\n",
    "    a += 1"
   ]
  }
 ],
 "metadata": {
  "interpreter": {
   "hash": "aee8b7b246df8f9039afb4144a1f6fd8d2ca17a180786b69acc140d282b71a49"
  },
  "kernelspec": {
   "display_name": "Python 3.10.0 64-bit",
   "language": "python",
   "name": "python3"
  },
  "language_info": {
   "codemirror_mode": {
    "name": "ipython",
    "version": 3
   },
   "file_extension": ".py",
   "mimetype": "text/x-python",
   "name": "python",
   "nbconvert_exporter": "python",
   "pygments_lexer": "ipython3",
   "version": "3.10.0"
  },
  "orig_nbformat": 4
 },
 "nbformat": 4,
 "nbformat_minor": 2
}
